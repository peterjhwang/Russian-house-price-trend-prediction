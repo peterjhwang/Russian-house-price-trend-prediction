{
 "cells": [
  {
   "cell_type": "markdown",
   "metadata": {},
   "source": [
    "# Predict Russian house price trend based on macroeconomic factors"
   ]
  },
  {
   "cell_type": "markdown",
   "metadata": {},
   "source": [
    "### Table of Contents\n",
    "* [Content](#Table-of-Contents)\n",
    "* [1. Introduction](#1.-Introduction)\n",
    "* [2. Data Analysis](#2.-Data-Analysis)\n",
    "    * [2.1 Data cleaning and filling missing values](#2.1-Data-cleaning-and-filling-missing-values)\n",
    "* [3. Linear Regression](#3.-Linear-Regression)\n",
    "    * [3.1 By high correlation columns](#3.1-By-high-correlation-columns)\n",
    "    * [3.2 Factors chosen by intuition](#3.2-Factors-chosen-by-intuition)\n",
    "    * [3.3 Choose by XGBoost feature importance](#3.3-Choose-by-XGBoost-feature-importance)\n",
    "    * [3.4 Feature Engineering](#3.4-Feature-Engineering)\n",
    "* [4. Elastic Net](#4.-Elastic-Net) \n",
    "    * [4.1 Elastic Net with only the original features](#4.1-Elastic-Net-with-only-the-original-features)\n",
    "    * [4.2 Elastic Net with engineering features](#4.2-Elastic-Net-with-engineering-features)\n",
    "* [5. Gradient Boosting](#5.-Gradient-Boosting) \n",
    "    * [5.1 Gradient Boosting with only the original features](#5.1-Gradient-Boosting-with-only-the-original-features)\n",
    "    * [5.2 Gradient Boosting with engineering features](#5.2-Gradient-Boosting-with-engineering-features)\n",
    "* [6. Conclusion](#6.-Conclusion)"
   ]
  },
  {
   "cell_type": "markdown",
   "metadata": {},
   "source": [
    "## 1. Introduction\n",
    "\n",
    "To predict house price precisely, many kinds of information are needed from number of bedrooms to interest rate. This research finds the best accurate model based on macroeconomic factors such as GDP, exchange rate and so on. After that, the research will make macroeconomic index using the model (macro_economy.py)."
   ]
  },
  {
   "cell_type": "code",
   "execution_count": 1,
   "metadata": {},
   "outputs": [
    {
     "name": "stderr",
     "output_type": "stream",
     "text": [
      "/Users/PeterHwang/anaconda/lib/python2.7/site-packages/sklearn/cross_validation.py:44: DeprecationWarning: This module was deprecated in version 0.18 in favor of the model_selection module into which all the refactored classes and functions are moved. Also note that the interface of the new CV iterators are different from that of this module. This module will be removed in 0.20.\n",
      "  \"This module will be removed in 0.20.\", DeprecationWarning)\n"
     ]
    },
    {
     "data": {
      "text/html": [
       "<script>requirejs.config({paths: { 'plotly': ['https://cdn.plot.ly/plotly-latest.min']},});if(!window.Plotly) {{require(['plotly'],function(plotly) {window.Plotly=plotly;});}}</script>"
      ],
      "text/plain": [
       "<IPython.core.display.HTML object>"
      ]
     },
     "metadata": {},
     "output_type": "display_data"
    }
   ],
   "source": [
    "import warnings\n",
    "warnings.filterwarnings('ignore')\n",
    "\n",
    "import numpy as np \n",
    "import pandas as pd \n",
    "import matplotlib.pyplot as plt\n",
    "from matplotlib import pyplot\n",
    "import xgboost as xgb\n",
    "import seaborn as sns\n",
    "import statsmodels.formula.api as smf\n",
    "from sklearn import metrics\n",
    "from sklearn.metrics import accuracy_score\n",
    "from sklearn.linear_model import ElasticNet\n",
    "from sklearn import model_selection, preprocessing\n",
    "from sklearn import ensemble, tree, linear_model\n",
    "from sklearn.model_selection import train_test_split, cross_val_score\n",
    "from sklearn.metrics import r2_score, mean_squared_error\n",
    "from IPython.display import Image\n",
    "%matplotlib inline\n",
    "\n",
    "import plotly.offline as py\n",
    "py.init_notebook_mode(connected=True)\n",
    "import plotly.graph_objs as go\n",
    "import plotly.tools as tls"
   ]
  },
  {
   "cell_type": "code",
   "execution_count": 2,
   "metadata": {
    "collapsed": true
   },
   "outputs": [],
   "source": [
    "# self-function definitions\n",
    "def predictedVal(df): \n",
    "    pred = []\n",
    "    for row in range(0,len(df)):\n",
    "        estimate = 0.0\n",
    "        for col in df[cols]:\n",
    "            estimate = estimate + (multi_linear.params[col])*df.ix[row,col]\n",
    "        estimate = estimate +(multi_linear.params['Intercept'])\n",
    "        pred.append(estimate)\n",
    "    return pred\n",
    "\n",
    "def logToReal(array):\n",
    "    temp = []\n",
    "    for log_price in array:\n",
    "        temp.append(np.exp(log_price))\n",
    "    return temp"
   ]
  },
  {
   "cell_type": "markdown",
   "metadata": {},
   "source": [
    "## 2. Data Analysis\n",
    "\n",
    "To better understand the data, this part shows several graphs."
   ]
  },
  {
   "cell_type": "code",
   "execution_count": 3,
   "metadata": {
    "collapsed": true
   },
   "outputs": [],
   "source": [
    "train_df = pd.read_csv(\"train.csv\", parse_dates=[\"timestamp\"], index_col=[\"timestamp\"])\n",
    "macro_df = pd.read_csv('macro.csv', parse_dates=['timestamp'], index_col=['timestamp'])"
   ]
  },
  {
   "cell_type": "code",
   "execution_count": 4,
   "metadata": {},
   "outputs": [
    {
     "name": "stdout",
     "output_type": "stream",
     "text": [
      "count    3.047100e+04\n",
      "mean     7.123035e+06\n",
      "std      4.780111e+06\n",
      "min      1.000000e+05\n",
      "25%      4.740002e+06\n",
      "50%      6.274411e+06\n",
      "75%      8.300000e+06\n",
      "max      1.111111e+08\n",
      "Name: price_doc, dtype: float64\n",
      "\n",
      "The minimum price is:  100000\n",
      "The maximum price is:  111111112\n"
     ]
    },
    {
     "data": {
      "image/png": "[encoded data removed]",
      "text/plain": [
       "<matplotlib.figure.Figure at 0x1134a5d10>"
      ]
     },
     "metadata": {},
     "output_type": "display_data"
    }
   ],
   "source": [
    "plt.figure(figsize=(12,6))\n",
    "plt.scatter(train_df.index, np.sort(train_df.price_doc.values))\n",
    "#plt.xlabel('index', fontsize=12)\n",
    "plt.ylabel('price', fontsize=12)\n",
    "print train_df['price_doc'].describe()\n",
    "print \"\\nThe minimum price is: \",train_df['price_doc'].min()\n",
    "print \"The maximum price is: \", train_df['price_doc'].max()\n",
    "plt.show()"
   ]
  },
  {
   "cell_type": "code",
   "execution_count": 5,
   "metadata": {},
   "outputs": [
    {
     "name": "stdout",
     "output_type": "stream",
     "text": [
      "Skewness: 4.474745\n"
     ]
    },
    {
     "data": {
      "image/png": "[encoded data removed]",
      "text/plain": [
       "<matplotlib.figure.Figure at 0x1084f0fd0>"
      ]
     },
     "metadata": {},
     "output_type": "display_data"
    }
   ],
   "source": [
    "plt.figure(figsize=(12,6))\n",
    "sns.distplot(train_df.price_doc.values, bins=50, kde=True)\n",
    "plt.xlabel('price', fontsize=12)\n",
    "print(\"Skewness: %f\" % train_df['price_doc'].skew())\n",
    "plt.show()"
   ]
  },
  {
   "cell_type": "markdown",
   "metadata": {},
   "source": [
    "House price has very long right tail. So take logarithm to normalise."
   ]
  },
  {
   "cell_type": "code",
   "execution_count": 6,
   "metadata": {},
   "outputs": [
    {
     "name": "stdout",
     "output_type": "stream",
     "text": [
      "Skewness: -0.686716\n"
     ]
    },
    {
     "data": {
      "image/png": "[encoded data removed]",
      "text/plain": [
       "<matplotlib.figure.Figure at 0x1131d1650>"
      ]
     },
     "metadata": {},
     "output_type": "display_data"
    }
   ],
   "source": [
    "plt.figure(figsize=(12,6))\n",
    "sns.distplot(np.log(train_df.price_doc.values), bins=50, kde=True)\n",
    "plt.xlabel('price', fontsize=12)\n",
    "print(\"Skewness: %f\" % np.log(train_df['price_doc']).skew())\n",
    "plt.show()"
   ]
  },
  {
   "cell_type": "markdown",
   "metadata": {},
   "source": [
    "The graph looks normal distribution."
   ]
  },
  {
   "cell_type": "code",
   "execution_count": 7,
   "metadata": {
    "collapsed": true
   },
   "outputs": [],
   "source": [
    "grouped_df = pd.DataFrame(train_df['price_doc'].resample('M').median())"
   ]
  },
  {
   "cell_type": "code",
   "execution_count": 8,
   "metadata": {},
   "outputs": [
    {
     "data": {
      "text/html": [
       "<div>\n",
       "<table border=\"1\" class=\"dataframe\">\n",
       "  <thead>\n",
       "    <tr style=\"text-align: right;\">\n",
       "      <th></th>\n",
       "      <th>median_price</th>\n",
       "    </tr>\n",
       "    <tr>\n",
       "      <th>timestamp</th>\n",
       "      <th></th>\n",
       "    </tr>\n",
       "  </thead>\n",
       "  <tbody>\n",
       "    <tr>\n",
       "      <th>2011-08-31</th>\n",
       "      <td>5850000</td>\n",
       "    </tr>\n",
       "    <tr>\n",
       "      <th>2011-09-30</th>\n",
       "      <td>5200000</td>\n",
       "    </tr>\n",
       "    <tr>\n",
       "      <th>2011-10-31</th>\n",
       "      <td>5500000</td>\n",
       "    </tr>\n",
       "    <tr>\n",
       "      <th>2011-11-30</th>\n",
       "      <td>5600000</td>\n",
       "    </tr>\n",
       "    <tr>\n",
       "      <th>2011-12-31</th>\n",
       "      <td>5450000</td>\n",
       "    </tr>\n",
       "  </tbody>\n",
       "</table>\n",
       "</div>"
      ],
      "text/plain": [
       "            median_price\n",
       "timestamp               \n",
       "2011-08-31       5850000\n",
       "2011-09-30       5200000\n",
       "2011-10-31       5500000\n",
       "2011-11-30       5600000\n",
       "2011-12-31       5450000"
      ]
     },
     "execution_count": 8,
     "metadata": {},
     "output_type": "execute_result"
    }
   ],
   "source": [
    "grouped_df.columns = ['median_price']\n",
    "#grouped_df['25%'] = train_df['price_doc'].resample('M', how=lambda x: np.percentile(x, q=25))\n",
    "#grouped_df['75%'] = train_df['price_doc'].resample('M', how=lambda x: np.percentile(x, q=75))\n",
    "grouped_df.head()"
   ]
  },
  {
   "cell_type": "code",
   "execution_count": 9,
   "metadata": {},
   "outputs": [
    {
     "data": {
      "text/html": [
       "<img src=\"https://github.com/peterjhwang/Russian-house-price-trend-prediction/blob/master/House_Price_Trend_in_Moscow.jpg?raw=true\"/>"
      ],
      "text/plain": [
       "<IPython.core.display.Image object>"
      ]
     },
     "execution_count": 9,
     "metadata": {},
     "output_type": "execute_result"
    }
   ],
   "source": [
    "# Create and style traces\n",
    "trace0 = go.Scatter(\n",
    "    x = grouped_df.index,\n",
    "    y = train_df['price_doc'].resample('M').median(),\n",
    "    name = 'median',\n",
    "    line = dict(\n",
    "        color = ('rgb(205, 12, 24)'),\n",
    "        width = 4)\n",
    ")\n",
    "trace1 = go.Scatter(\n",
    "    x = grouped_df.index,\n",
    "    y = train_df['price_doc'].resample('M', how=lambda x: np.percentile(x, q=25)),\n",
    "    name = 'Q1(first quartile)',\n",
    "    line = dict(\n",
    "        color = ('rgb(22, 96, 167)'),\n",
    "        width = 4,\n",
    "        dash = 'dot')\n",
    ")\n",
    "trace2 = go.Scatter(\n",
    "    x = grouped_df.index,\n",
    "    y = train_df['price_doc'].resample('M', how=lambda x: np.percentile(x, q=75)),\n",
    "    name = 'Q3(third quartile)',\n",
    "    #yaxis='y2',\n",
    "    line = dict(\n",
    "        color = ('#ff7f0e'),\n",
    "        width = 4,\n",
    "        dash = 'dot') # dash options include 'dash', 'dot', and 'dashdot'\n",
    ")\n",
    "\n",
    "data = [trace0, trace1, trace2]\n",
    "\n",
    "# Edit the layout\n",
    "layout = dict(title = 'House Price in Moscow')\n",
    "    \n",
    "\n",
    "fig = dict(data=data, layout=layout)\n",
    "#py.iplot(fig, filename='styled-line')\n",
    "Image(url=\"https://github.com/peterjhwang/Russian-house-price-trend-prediction/blob/master/House_Price_Trend_in_Moscow.jpg?raw=true\")"
   ]
  },
  {
   "cell_type": "markdown",
   "metadata": {},
   "source": [
    "Macroeconomic factors will affect entire house price trend other than individual house price. On the other hand, house specifications, for instance, number of bedrooms, location, distance between amenities, will affect individual house prices. "
   ]
  },
  {
   "cell_type": "markdown",
   "metadata": {},
   "source": [
    "The research assumes that median house prices are the good indicator of the trend. Therefore, it will find the best model predicting median house prices."
   ]
  },
  {
   "cell_type": "markdown",
   "metadata": {},
   "source": [
    "#### 2.1 Data cleaning and filling missing values"
   ]
  },
  {
   "cell_type": "code",
   "execution_count": 10,
   "metadata": {
    "collapsed": true
   },
   "outputs": [],
   "source": [
    "macro_df = macro_df.resample('M').mean()"
   ]
  },
  {
   "cell_type": "code",
   "execution_count": 11,
   "metadata": {
    "collapsed": true
   },
   "outputs": [],
   "source": [
    "df = pd.concat([grouped_df, macro_df], axis=1, join='inner')"
   ]
  },
  {
   "cell_type": "code",
   "execution_count": 12,
   "metadata": {},
   "outputs": [
    {
     "data": {
      "image/png": "[encoded data removed]",
      "text/plain": [
       "<matplotlib.figure.Figure at 0x1084d3cd0>"
      ]
     },
     "metadata": {},
     "output_type": "display_data"
    }
   ],
   "source": [
    "missing_df = (df.isnull().sum(axis=0)/df.shape[0]).reset_index()\n",
    "missing_df.columns = ['column_name', 'missing_count']\n",
    "missing_df = missing_df.ix[missing_df['missing_count']>0]\n",
    "ind = np.arange(missing_df.shape[0])\n",
    "width = 0.9\n",
    "fig, ax = plt.subplots(figsize=(12,14))\n",
    "rects = ax.barh(ind, missing_df.missing_count.values, color='y')\n",
    "ax.set_yticks(ind)\n",
    "ax.set_yticklabels(missing_df.column_name.values, rotation='horizontal')\n",
    "ax.set_xlabel(\"Proportion of missing values\")\n",
    "ax.set_title(\"Proportion of missing values in each column\")\n",
    "plt.show()"
   ]
  },
  {
   "cell_type": "code",
   "execution_count": 13,
   "metadata": {
    "collapsed": true
   },
   "outputs": [],
   "source": [
    "# remove a column has nan value more than 50%\n",
    "del df['provision_retail_space_modern_sqm']\n",
    "del df['provision_retail_space_sqm']\n",
    "\n",
    "# fill all nan values with mean\n",
    "for col in df.columns:\n",
    "    df[col] = df[col].fillna(df[col].mean())"
   ]
  },
  {
   "cell_type": "code",
   "execution_count": 14,
   "metadata": {},
   "outputs": [
    {
     "name": "stdout",
     "output_type": "stream",
     "text": [
      "Skewness: 0.163461\n"
     ]
    },
    {
     "data": {
      "text/plain": [
       "<matplotlib.axes._subplots.AxesSubplot at 0x113375950>"
      ]
     },
     "execution_count": 14,
     "metadata": {},
     "output_type": "execute_result"
    },
    {
     "data": {
      "image/png": "[encoded data removed]",
      "text/plain": [
       "<matplotlib.figure.Figure at 0x1134a5a10>"
      ]
     },
     "metadata": {},
     "output_type": "display_data"
    }
   ],
   "source": [
    "print(\"Skewness: %f\" % df['median_price'].skew())\n",
    "#print(\"Kurtosis: %f\" % df['median_price'].kurt())\n",
    "sns.distplot(df['median_price'])"
   ]
  },
  {
   "cell_type": "code",
   "execution_count": 15,
   "metadata": {},
   "outputs": [
    {
     "name": "stdout",
     "output_type": "stream",
     "text": [
      "Skewness: -0.025348\n"
     ]
    },
    {
     "data": {
      "text/plain": [
       "<matplotlib.axes._subplots.AxesSubplot at 0x1154c8310>"
      ]
     },
     "execution_count": 15,
     "metadata": {},
     "output_type": "execute_result"
    },
    {
     "data": {
      "image/png": "[encoded data removed]",
      "text/plain": [
       "<matplotlib.figure.Figure at 0x113351b50>"
      ]
     },
     "metadata": {},
     "output_type": "display_data"
    }
   ],
   "source": [
    "print(\"Skewness: %f\" % np.log(df['median_price']).skew())\n",
    "sns.distplot(np.log(df['median_price']))"
   ]
  },
  {
   "cell_type": "code",
   "execution_count": 16,
   "metadata": {
    "collapsed": true
   },
   "outputs": [],
   "source": [
    "df['log_price'] = np.log(df['median_price'])\n",
    "del df['median_price']"
   ]
  },
  {
   "cell_type": "markdown",
   "metadata": {},
   "source": [
    "### 3. Linear Regression\n",
    "\n",
    "The research assumed that macroeconomic facotrs have strong relationship with house price trend. Therefore, firstly we try to find linear regression models.\n",
    "\n",
    "#### 3.1 By high correlation columns\n",
    "This section picked up high correlation columns, highest 5 columns and lowest 5 columns."
   ]
  },
  {
   "cell_type": "code",
   "execution_count": 17,
   "metadata": {},
   "outputs": [
    {
     "name": "stdout",
     "output_type": "stream",
     "text": [
      "log_price                              1.000000\n",
      "bandwidth_sports                       0.854691\n",
      "load_of_teachers_school_per_teacher    0.839201\n",
      "fixed_basket                           0.818910\n",
      "cpi                                    0.812997\n",
      "salary                                 0.804282\n",
      "Name: log_price, dtype: float64\n",
      "\n",
      "\n",
      "gdp_annual_growth   -0.843232\n",
      "provision_nurse     -0.826045\n",
      "micex_rgbi_tr       -0.786246\n",
      "rts                 -0.769177\n",
      "load_on_doctors     -0.716483\n",
      "Name: log_price, dtype: float64\n"
     ]
    }
   ],
   "source": [
    "print df.corr()['log_price'].nlargest(6)\n",
    "print '\\n'\n",
    "print df.corr()['log_price'].nsmallest()"
   ]
  },
  {
   "cell_type": "code",
   "execution_count": 18,
   "metadata": {
    "collapsed": true
   },
   "outputs": [],
   "source": [
    "cols = ['bandwidth_sports','load_of_teachers_school_per_teacher','fixed_basket', \n",
    "        'cpi', 'salary', 'rts', 'micex_rgbi_tr', 'provision_nurse', 'load_on_doctors', 'gdp_annual_growth']"
   ]
  },
  {
   "cell_type": "code",
   "execution_count": 19,
   "metadata": {},
   "outputs": [
    {
     "name": "stdout",
     "output_type": "stream",
     "text": [
      "Intercept                              0.000932\n",
      "bandwidth_sports                      -0.000010\n",
      "load_of_teachers_school_per_teacher    0.004816\n",
      "fixed_basket                           0.000026\n",
      "cpi                                   -0.000932\n",
      "salary                                 0.000094\n",
      "rts                                    0.000218\n",
      "micex_rgbi_tr                         -0.010422\n",
      "provision_nurse                        0.117938\n",
      "load_on_doctors                       -0.000410\n",
      "dtype: float64\n",
      "R-Squared:  0.841129247036\n"
     ]
    },
    {
     "data": {
      "text/html": [
       "<table class=\"simpletable\">\n",
       "<caption>OLS Regression Results</caption>\n",
       "<tr>\n",
       "  <th>Dep. Variable:</th>        <td>log_price</td>    <th>  R-squared:         </th> <td>   0.841</td>\n",
       "</tr>\n",
       "<tr>\n",
       "  <th>Model:</th>                   <td>OLS</td>       <th>  Adj. R-squared:    </th> <td>   0.808</td>\n",
       "</tr>\n",
       "<tr>\n",
       "  <th>Method:</th>             <td>Least Squares</td>  <th>  F-statistic:       </th> <td>   25.15</td>\n",
       "</tr>\n",
       "<tr>\n",
       "  <th>Date:</th>             <td>Fri, 04 Aug 2017</td> <th>  Prob (F-statistic):</th> <td>6.23e-13</td>\n",
       "</tr>\n",
       "<tr>\n",
       "  <th>Time:</th>                 <td>09:40:32</td>     <th>  Log-Likelihood:    </th> <td>  85.773</td>\n",
       "</tr>\n",
       "<tr>\n",
       "  <th>No. Observations:</th>      <td>    47</td>      <th>  AIC:               </th> <td>  -153.5</td>\n",
       "</tr>\n",
       "<tr>\n",
       "  <th>Df Residuals:</th>          <td>    38</td>      <th>  BIC:               </th> <td>  -136.9</td>\n",
       "</tr>\n",
       "<tr>\n",
       "  <th>Df Model:</th>              <td>     8</td>      <th>                     </th>     <td> </td>   \n",
       "</tr>\n",
       "<tr>\n",
       "  <th>Covariance Type:</th>      <td>nonrobust</td>    <th>                     </th>     <td> </td>   \n",
       "</tr>\n",
       "</table>\n",
       "<table class=\"simpletable\">\n",
       "<tr>\n",
       "                   <td></td>                      <th>coef</th>     <th>std err</th>      <th>t</th>      <th>P>|t|</th> <th>[95.0% Conf. Int.]</th> \n",
       "</tr>\n",
       "<tr>\n",
       "  <th>Intercept</th>                           <td>    0.0009</td> <td> 7.72e-05</td> <td>   12.079</td> <td> 0.000</td> <td>    0.001     0.001</td>\n",
       "</tr>\n",
       "<tr>\n",
       "  <th>bandwidth_sports</th>                    <td>-1.029e-05</td> <td> 3.25e-06</td> <td>   -3.168</td> <td> 0.003</td> <td>-1.69e-05 -3.71e-06</td>\n",
       "</tr>\n",
       "<tr>\n",
       "  <th>load_of_teachers_school_per_teacher</th> <td>    0.0048</td> <td>    0.000</td> <td>   15.250</td> <td> 0.000</td> <td>    0.004     0.005</td>\n",
       "</tr>\n",
       "<tr>\n",
       "  <th>fixed_basket</th>                        <td> 2.622e-05</td> <td> 5.88e-05</td> <td>    0.446</td> <td> 0.658</td> <td>-9.28e-05     0.000</td>\n",
       "</tr>\n",
       "<tr>\n",
       "  <th>cpi</th>                                 <td>   -0.0009</td> <td>    0.002</td> <td>   -0.467</td> <td> 0.643</td> <td>   -0.005     0.003</td>\n",
       "</tr>\n",
       "<tr>\n",
       "  <th>salary</th>                              <td> 9.383e-05</td> <td> 2.48e-05</td> <td>    3.777</td> <td> 0.001</td> <td> 4.35e-05     0.000</td>\n",
       "</tr>\n",
       "<tr>\n",
       "  <th>rts</th>                                 <td>    0.0002</td> <td> 8.96e-05</td> <td>    2.435</td> <td> 0.020</td> <td> 3.68e-05     0.000</td>\n",
       "</tr>\n",
       "<tr>\n",
       "  <th>micex_rgbi_tr</th>                       <td>   -0.0104</td> <td>    0.002</td> <td>   -4.557</td> <td> 0.000</td> <td>   -0.015    -0.006</td>\n",
       "</tr>\n",
       "<tr>\n",
       "  <th>provision_nurse</th>                     <td>    0.1179</td> <td>    0.010</td> <td>   12.052</td> <td> 0.000</td> <td>    0.098     0.138</td>\n",
       "</tr>\n",
       "<tr>\n",
       "  <th>load_on_doctors</th>                     <td>   -0.0004</td> <td>    0.000</td> <td>   -3.046</td> <td> 0.004</td> <td>   -0.001    -0.000</td>\n",
       "</tr>\n",
       "<tr>\n",
       "  <th>gdp_annual_growth</th>                   <td>   -0.0003</td> <td> 2.42e-05</td> <td>  -12.022</td> <td> 0.000</td> <td>   -0.000    -0.000</td>\n",
       "</tr>\n",
       "</table>\n",
       "<table class=\"simpletable\">\n",
       "<tr>\n",
       "  <th>Omnibus:</th>       <td> 1.242</td> <th>  Durbin-Watson:     </th> <td>   0.918</td>\n",
       "</tr>\n",
       "<tr>\n",
       "  <th>Prob(Omnibus):</th> <td> 0.537</td> <th>  Jarque-Bera (JB):  </th> <td>   0.592</td>\n",
       "</tr>\n",
       "<tr>\n",
       "  <th>Skew:</th>          <td>-0.239</td> <th>  Prob(JB):          </th> <td>   0.744</td>\n",
       "</tr>\n",
       "<tr>\n",
       "  <th>Kurtosis:</th>      <td> 3.271</td> <th>  Cond. No.          </th> <td>1.34e+22</td>\n",
       "</tr>\n",
       "</table>"
      ],
      "text/plain": [
       "<class 'statsmodels.iolib.summary.Summary'>\n",
       "\"\"\"\n",
       "                            OLS Regression Results                            \n",
       "==============================================================================\n",
       "Dep. Variable:              log_price   R-squared:                       0.841\n",
       "Model:                            OLS   Adj. R-squared:                  0.808\n",
       "Method:                 Least Squares   F-statistic:                     25.15\n",
       "Date:                Fri, 04 Aug 2017   Prob (F-statistic):           6.23e-13\n",
       "Time:                        09:40:32   Log-Likelihood:                 85.773\n",
       "No. Observations:                  47   AIC:                            -153.5\n",
       "Df Residuals:                      38   BIC:                            -136.9\n",
       "Df Model:                           8                                         \n",
       "Covariance Type:            nonrobust                                         \n",
       "=======================================================================================================\n",
       "                                          coef    std err          t      P>|t|      [95.0% Conf. Int.]\n",
       "-------------------------------------------------------------------------------------------------------\n",
       "Intercept                               0.0009   7.72e-05     12.079      0.000         0.001     0.001\n",
       "bandwidth_sports                    -1.029e-05   3.25e-06     -3.168      0.003     -1.69e-05 -3.71e-06\n",
       "load_of_teachers_school_per_teacher     0.0048      0.000     15.250      0.000         0.004     0.005\n",
       "fixed_basket                         2.622e-05   5.88e-05      0.446      0.658     -9.28e-05     0.000\n",
       "cpi                                    -0.0009      0.002     -0.467      0.643        -0.005     0.003\n",
       "salary                               9.383e-05   2.48e-05      3.777      0.001      4.35e-05     0.000\n",
       "rts                                     0.0002   8.96e-05      2.435      0.020      3.68e-05     0.000\n",
       "micex_rgbi_tr                          -0.0104      0.002     -4.557      0.000        -0.015    -0.006\n",
       "provision_nurse                         0.1179      0.010     12.052      0.000         0.098     0.138\n",
       "load_on_doctors                        -0.0004      0.000     -3.046      0.004        -0.001    -0.000\n",
       "gdp_annual_growth                      -0.0003   2.42e-05    -12.022      0.000        -0.000    -0.000\n",
       "==============================================================================\n",
       "Omnibus:                        1.242   Durbin-Watson:                   0.918\n",
       "Prob(Omnibus):                  0.537   Jarque-Bera (JB):                0.592\n",
       "Skew:                          -0.239   Prob(JB):                        0.744\n",
       "Kurtosis:                       3.271   Cond. No.                     1.34e+22\n",
       "==============================================================================\n",
       "\n",
       "Warnings:\n",
       "[1] Standard Errors assume that the covariance matrix of the errors is correctly specified.\n",
       "[2] The smallest eigenvalue is 3.34e-32. This might indicate that there are\n",
       "strong multicollinearity problems or that the design matrix is singular.\n",
       "\"\"\""
      ]
     },
     "execution_count": 19,
     "metadata": {},
     "output_type": "execute_result"
    }
   ],
   "source": [
    "multi_linear = smf.ols(formula='log_price ~ 1 + bandwidth_sports + load_of_teachers_school_per_teacher + fixed_basket + cpi + salary + rts + micex_rgbi_tr + provision_nurse + load_on_doctors + gdp_annual_growth',data=df).fit()\n",
    "print multi_linear.params[0:10]\n",
    "print 'R-Squared: ', multi_linear.rsquared\n",
    "multi_linear.summary()"
   ]
  },
  {
   "cell_type": "code",
   "execution_count": 20,
   "metadata": {
    "collapsed": true
   },
   "outputs": [],
   "source": [
    "predict1 = predictedVal(df)\n",
    "predictVal1 = logToReal(predict1)"
   ]
  },
  {
   "cell_type": "code",
   "execution_count": 21,
   "metadata": {},
   "outputs": [
    {
     "data": {
      "text/html": [
       "<img src=\"https://github.com/peterjhwang/Russian-house-price-trend-prediction/blob/master/Lm_high_cor_cols.jpg?raw=true\"/>"
      ],
      "text/plain": [
       "<IPython.core.display.Image object>"
      ]
     },
     "execution_count": 21,
     "metadata": {},
     "output_type": "execute_result"
    }
   ],
   "source": [
    "trace0 = go.Bar(x=grouped_df.index,y=grouped_df.median_price.values, name='actual')\n",
    "trace1 = go.Bar(x=grouped_df.index, y=predictVal1, name='predicted')\n",
    "data = [trace0, trace1]\n",
    "layout = go.Layout(\n",
    "    xaxis=dict(tickangle=-45),\n",
    "    barmode='group',\n",
    "    title = 'Linear Model using high correlation data'\n",
    ")\n",
    "fig = go.Figure(data=data, layout=layout)\n",
    "#py.iplot(fig, filename='angled-text-bar')\n",
    "Image(url=\"https://github.com/peterjhwang/Russian-house-price-trend-prediction/blob/master/Lm_high_cor_cols.jpg?raw=true\")"
   ]
  },
  {
   "cell_type": "code",
   "execution_count": 22,
   "metadata": {
    "collapsed": true
   },
   "outputs": [],
   "source": [
    "sqrt_scores = [] #store sqrt_scores of all models in order to compare\n",
    "model_name = []"
   ]
  },
  {
   "cell_type": "code",
   "execution_count": 23,
   "metadata": {},
   "outputs": [
    {
     "name": "stdout",
     "output_type": "stream",
     "text": [
      "0.0291932731718\n",
      "0.00152188784376\n",
      "0.0390113809517\n"
     ]
    }
   ],
   "source": [
    "print metrics.mean_absolute_error(df['log_price'], predict1)\n",
    "print metrics.mean_squared_error(df['log_price'], predict1)\n",
    "print np.sqrt(metrics.mean_squared_error(df['log_price'], predict1))\n",
    "sqrt_scores.append(np.sqrt(metrics.mean_squared_error(df['log_price'], predict1)))\n",
    "model_name.append('high correlation linear regression')"
   ]
  },
  {
   "cell_type": "markdown",
   "metadata": {},
   "source": [
    "#### 3.2 Factors chosen by intuition\n",
    "\n",
    "We create a model by collecting data that are expected to have strong correlations such as mortagage rate, exchange rate."
   ]
  },
  {
   "cell_type": "code",
   "execution_count": 24,
   "metadata": {
    "collapsed": true
   },
   "outputs": [],
   "source": [
    "macro_columns = ['log_price','oil_urals', 'gdp_quart_growth', 'cpi', 'usdrub', \n",
    "                'salary_growth', 'unemployment', 'average_provision_of_build_contract_moscow', 'mortgage_rate', \n",
    "                 'deposits_rate','deposits_growth','rent_price_3room_eco',\n",
    "                 'rent_price_3room_bus']"
   ]
  },
  {
   "cell_type": "code",
   "execution_count": 25,
   "metadata": {},
   "outputs": [
    {
     "name": "stdout",
     "output_type": "stream",
     "text": [
      "log_price                                     1.000000\n",
      "cpi                                           0.812997\n",
      "usdrub                                        0.759078\n",
      "rent_price_3room_bus                          0.669664\n",
      "rent_price_3room_eco                          0.649769\n",
      "deposits_rate                                 0.588184\n",
      "mortgage_rate                                 0.521275\n",
      "unemployment                                  0.442994\n",
      "average_provision_of_build_contract_moscow    0.342944\n",
      "deposits_growth                              -0.103362\n",
      "Name: log_price, dtype: float64\n",
      "oil_urals                                    -0.704347\n",
      "gdp_quart_growth                             -0.609306\n",
      "salary_growth                                -0.572325\n",
      "deposits_growth                              -0.103362\n",
      "average_provision_of_build_contract_moscow    0.342944\n",
      "Name: log_price, dtype: float64\n"
     ]
    }
   ],
   "source": [
    "print df[macro_columns].corr()['log_price'].nlargest(10)\n",
    "print df[macro_columns].corr()['log_price'].nsmallest()"
   ]
  },
  {
   "cell_type": "code",
   "execution_count": 26,
   "metadata": {
    "collapsed": true
   },
   "outputs": [],
   "source": [
    "# choose significant features\n",
    "cols=['oil_urals', 'gdp_quart_growth', 'cpi', 'usdrub','salary_growth', 'unemployment', 'mortgage_rate',\n",
    "                'deposits_rate','rent_price_3room_bus', 'rent_price_3room_eco']"
   ]
  },
  {
   "cell_type": "code",
   "execution_count": 27,
   "metadata": {},
   "outputs": [
    {
     "name": "stdout",
     "output_type": "stream",
     "text": [
      "Intercept               16.104151\n",
      "oil_urals               -0.002483\n",
      "gdp_quart_growth         0.036072\n",
      "cpi                      0.003107\n",
      "usdrub                  -0.001217\n",
      "salary_growth           -2.258010\n",
      "unemployment            21.887836\n",
      "mortgage_rate           -0.087255\n",
      "deposits_rate           -0.018709\n",
      "rent_price_3room_bus    -0.001148\n",
      "rent_price_3room_eco    -0.005253\n",
      "dtype: float64\n",
      "R-Squared:  0.852990278926\n"
     ]
    },
    {
     "data": {
      "text/html": [
       "<table class=\"simpletable\">\n",
       "<caption>OLS Regression Results</caption>\n",
       "<tr>\n",
       "  <th>Dep. Variable:</th>        <td>log_price</td>    <th>  R-squared:         </th> <td>   0.853</td>\n",
       "</tr>\n",
       "<tr>\n",
       "  <th>Model:</th>                   <td>OLS</td>       <th>  Adj. R-squared:    </th> <td>   0.812</td>\n",
       "</tr>\n",
       "<tr>\n",
       "  <th>Method:</th>             <td>Least Squares</td>  <th>  F-statistic:       </th> <td>   20.89</td>\n",
       "</tr>\n",
       "<tr>\n",
       "  <th>Date:</th>             <td>Fri, 04 Aug 2017</td> <th>  Prob (F-statistic):</th> <td>4.13e-12</td>\n",
       "</tr>\n",
       "<tr>\n",
       "  <th>Time:</th>                 <td>09:40:33</td>     <th>  Log-Likelihood:    </th> <td>  87.597</td>\n",
       "</tr>\n",
       "<tr>\n",
       "  <th>No. Observations:</th>      <td>    47</td>      <th>  AIC:               </th> <td>  -153.2</td>\n",
       "</tr>\n",
       "<tr>\n",
       "  <th>Df Residuals:</th>          <td>    36</td>      <th>  BIC:               </th> <td>  -132.8</td>\n",
       "</tr>\n",
       "<tr>\n",
       "  <th>Df Model:</th>              <td>    10</td>      <th>                     </th>     <td> </td>   \n",
       "</tr>\n",
       "<tr>\n",
       "  <th>Covariance Type:</th>      <td>nonrobust</td>    <th>                     </th>     <td> </td>   \n",
       "</tr>\n",
       "</table>\n",
       "<table class=\"simpletable\">\n",
       "<tr>\n",
       "            <td></td>              <th>coef</th>     <th>std err</th>      <th>t</th>      <th>P>|t|</th> <th>[95.0% Conf. Int.]</th> \n",
       "</tr>\n",
       "<tr>\n",
       "  <th>Intercept</th>            <td>   16.1042</td> <td>    0.558</td> <td>   28.860</td> <td> 0.000</td> <td>   14.972    17.236</td>\n",
       "</tr>\n",
       "<tr>\n",
       "  <th>oil_urals</th>            <td>   -0.0025</td> <td>    0.002</td> <td>   -1.560</td> <td> 0.127</td> <td>   -0.006     0.001</td>\n",
       "</tr>\n",
       "<tr>\n",
       "  <th>gdp_quart_growth</th>     <td>    0.0361</td> <td>    0.013</td> <td>    2.846</td> <td> 0.007</td> <td>    0.010     0.062</td>\n",
       "</tr>\n",
       "<tr>\n",
       "  <th>cpi</th>                  <td>    0.0031</td> <td>    0.001</td> <td>    2.583</td> <td> 0.014</td> <td>    0.001     0.006</td>\n",
       "</tr>\n",
       "<tr>\n",
       "  <th>usdrub</th>               <td>   -0.0012</td> <td>    0.005</td> <td>   -0.265</td> <td> 0.792</td> <td>   -0.011     0.008</td>\n",
       "</tr>\n",
       "<tr>\n",
       "  <th>salary_growth</th>        <td>   -2.2580</td> <td>    0.650</td> <td>   -3.474</td> <td> 0.001</td> <td>   -3.576    -0.940</td>\n",
       "</tr>\n",
       "<tr>\n",
       "  <th>unemployment</th>         <td>   21.8878</td> <td>    6.059</td> <td>    3.613</td> <td> 0.001</td> <td>    9.600    34.175</td>\n",
       "</tr>\n",
       "<tr>\n",
       "  <th>mortgage_rate</th>        <td>   -0.0873</td> <td>    0.021</td> <td>   -4.188</td> <td> 0.000</td> <td>   -0.130    -0.045</td>\n",
       "</tr>\n",
       "<tr>\n",
       "  <th>deposits_rate</th>        <td>   -0.0187</td> <td>    0.010</td> <td>   -1.897</td> <td> 0.066</td> <td>   -0.039     0.001</td>\n",
       "</tr>\n",
       "<tr>\n",
       "  <th>rent_price_3room_bus</th> <td>   -0.0011</td> <td>    0.001</td> <td>   -1.035</td> <td> 0.307</td> <td>   -0.003     0.001</td>\n",
       "</tr>\n",
       "<tr>\n",
       "  <th>rent_price_3room_eco</th> <td>   -0.0053</td> <td>    0.004</td> <td>   -1.247</td> <td> 0.221</td> <td>   -0.014     0.003</td>\n",
       "</tr>\n",
       "</table>\n",
       "<table class=\"simpletable\">\n",
       "<tr>\n",
       "  <th>Omnibus:</th>       <td> 0.764</td> <th>  Durbin-Watson:     </th> <td>   1.447</td>\n",
       "</tr>\n",
       "<tr>\n",
       "  <th>Prob(Omnibus):</th> <td> 0.683</td> <th>  Jarque-Bera (JB):  </th> <td>   0.758</td>\n",
       "</tr>\n",
       "<tr>\n",
       "  <th>Skew:</th>          <td>-0.001</td> <th>  Prob(JB):          </th> <td>   0.685</td>\n",
       "</tr>\n",
       "<tr>\n",
       "  <th>Kurtosis:</th>      <td> 2.378</td> <th>  Cond. No.          </th> <td>4.19e+05</td>\n",
       "</tr>\n",
       "</table>"
      ],
      "text/plain": [
       "<class 'statsmodels.iolib.summary.Summary'>\n",
       "\"\"\"\n",
       "                            OLS Regression Results                            \n",
       "==============================================================================\n",
       "Dep. Variable:              log_price   R-squared:                       0.853\n",
       "Model:                            OLS   Adj. R-squared:                  0.812\n",
       "Method:                 Least Squares   F-statistic:                     20.89\n",
       "Date:                Fri, 04 Aug 2017   Prob (F-statistic):           4.13e-12\n",
       "Time:                        09:40:33   Log-Likelihood:                 87.597\n",
       "No. Observations:                  47   AIC:                            -153.2\n",
       "Df Residuals:                      36   BIC:                            -132.8\n",
       "Df Model:                          10                                         \n",
       "Covariance Type:            nonrobust                                         \n",
       "========================================================================================\n",
       "                           coef    std err          t      P>|t|      [95.0% Conf. Int.]\n",
       "----------------------------------------------------------------------------------------\n",
       "Intercept               16.1042      0.558     28.860      0.000        14.972    17.236\n",
       "oil_urals               -0.0025      0.002     -1.560      0.127        -0.006     0.001\n",
       "gdp_quart_growth         0.0361      0.013      2.846      0.007         0.010     0.062\n",
       "cpi                      0.0031      0.001      2.583      0.014         0.001     0.006\n",
       "usdrub                  -0.0012      0.005     -0.265      0.792        -0.011     0.008\n",
       "salary_growth           -2.2580      0.650     -3.474      0.001        -3.576    -0.940\n",
       "unemployment            21.8878      6.059      3.613      0.001         9.600    34.175\n",
       "mortgage_rate           -0.0873      0.021     -4.188      0.000        -0.130    -0.045\n",
       "deposits_rate           -0.0187      0.010     -1.897      0.066        -0.039     0.001\n",
       "rent_price_3room_bus    -0.0011      0.001     -1.035      0.307        -0.003     0.001\n",
       "rent_price_3room_eco    -0.0053      0.004     -1.247      0.221        -0.014     0.003\n",
       "==============================================================================\n",
       "Omnibus:                        0.764   Durbin-Watson:                   1.447\n",
       "Prob(Omnibus):                  0.683   Jarque-Bera (JB):                0.758\n",
       "Skew:                          -0.001   Prob(JB):                        0.685\n",
       "Kurtosis:                       2.378   Cond. No.                     4.19e+05\n",
       "==============================================================================\n",
       "\n",
       "Warnings:\n",
       "[1] Standard Errors assume that the covariance matrix of the errors is correctly specified.\n",
       "[2] The condition number is large, 4.19e+05. This might indicate that there are\n",
       "strong multicollinearity or other numerical problems.\n",
       "\"\"\""
      ]
     },
     "execution_count": 27,
     "metadata": {},
     "output_type": "execute_result"
    }
   ],
   "source": [
    "multi_linear = smf.ols(formula='log_price ~ 1 + oil_urals + gdp_quart_growth + cpi + usdrub +salary_growth + unemployment + mortgage_rate + deposits_rate + rent_price_3room_bus + rent_price_3room_eco',data=df).fit()\n",
    "print multi_linear.params[0:11]\n",
    "print 'R-Squared: ', multi_linear.rsquared\n",
    "multi_linear.summary()"
   ]
  },
  {
   "cell_type": "code",
   "execution_count": 28,
   "metadata": {
    "collapsed": true
   },
   "outputs": [],
   "source": [
    "predict2 = predictedVal(df)\n",
    "predictVal2 = logToReal(predict2)"
   ]
  },
  {
   "cell_type": "code",
   "execution_count": 29,
   "metadata": {},
   "outputs": [
    {
     "data": {
      "text/html": [
       "<img src=\"https://github.com/peterjhwang/Russian-house-price-trend-prediction/blob/master/Lm_intuition.jpg?raw=true\"/>"
      ],
      "text/plain": [
       "<IPython.core.display.Image object>"
      ]
     },
     "execution_count": 29,
     "metadata": {},
     "output_type": "execute_result"
    }
   ],
   "source": [
    "trace0 = go.Bar(x=grouped_df.index,y=grouped_df.median_price.values, name='actual')\n",
    "trace1 = go.Bar(x=grouped_df.index, y=predictVal2, name='predicted')\n",
    "data = [trace0, trace1]\n",
    "layout = go.Layout(\n",
    "    xaxis=dict(tickangle=-45),\n",
    "    barmode='group',\n",
    "    title = 'Linear Model based on data selected by intuition'\n",
    ")\n",
    "\n",
    "fig = go.Figure(data=data, layout=layout)\n",
    "#py.iplot(fig, filename='angled-text-bar')\n",
    "Image(url=\"https://github.com/peterjhwang/Russian-house-price-trend-prediction/blob/master/Lm_intuition.jpg?raw=true\")"
   ]
  },
  {
   "cell_type": "code",
   "execution_count": 30,
   "metadata": {},
   "outputs": [
    {
     "name": "stdout",
     "output_type": "stream",
     "text": [
      "0.0311223637412\n",
      "0.00140826617388\n",
      "0.0375268726898\n"
     ]
    }
   ],
   "source": [
    "print metrics.mean_absolute_error(df['log_price'], predict2)\n",
    "print metrics.mean_squared_error(df['log_price'], predict2)\n",
    "print np.sqrt(metrics.mean_squared_error(df['log_price'], predict2))\n",
    "sqrt_scores.append(np.sqrt(metrics.mean_squared_error(df['log_price'], predict2)))\n",
    "model_name.append('intuitively picked up linear regression')"
   ]
  },
  {
   "cell_type": "markdown",
   "metadata": {},
   "source": [
    "#### 3.3 Choose by XGBoost feature importance\n",
    "\n",
    "This part make a model based on the data which have high XGBoost feature importance value."
   ]
  },
  {
   "cell_type": "code",
   "execution_count": 31,
   "metadata": {},
   "outputs": [
    {
     "data": {
      "image/png": "[encoded data removed]",
      "text/plain": [
       "<matplotlib.figure.Figure at 0x115568e10>"
      ]
     },
     "metadata": {},
     "output_type": "display_data"
    }
   ],
   "source": [
    "train_y = df.log_price.values\n",
    "train_X = df.drop([\"log_price\"], axis=1)\n",
    "\n",
    "xgb_params = {\n",
    "    'eta': 0.05,\n",
    "    'max_depth': 8,\n",
    "    'subsample': 0.7,\n",
    "    'colsample_bytree': 0.7,\n",
    "    'objective': 'reg:linear',\n",
    "    'eval_metric': 'rmse',\n",
    "    'silent': 1\n",
    "}\n",
    "dtrain = xgb.DMatrix(train_X, train_y, feature_names=train_X.columns.values)\n",
    "model = xgb.train(dict(xgb_params, silent=0), dtrain, num_boost_round=100)\n",
    "\n",
    "# plot the important features #\n",
    "fig, ax = plt.subplots(figsize=(10,10))\n",
    "xgb.plot_importance(model,height=0.8, ax=ax)\n",
    "plt.show()"
   ]
  },
  {
   "cell_type": "code",
   "execution_count": 32,
   "metadata": {},
   "outputs": [
    {
     "name": "stdout",
     "output_type": "stream",
     "text": [
      "Intercept                                     14.412307\n",
      "cpi                                           -0.001101\n",
      "net_capital_export                             0.080529\n",
      "ppi                                           -0.000321\n",
      "rts                                           -0.000053\n",
      "average_provision_of_build_contract           -0.005760\n",
      "usdrub                                         0.004880\n",
      "average_provision_of_build_contract_moscow     0.070810\n",
      "micex_cbi_tr                                   0.005498\n",
      "dtype: float64\n",
      "R-Squared:  0.766015084203\n"
     ]
    },
    {
     "data": {
      "text/html": [
       "<table class=\"simpletable\">\n",
       "<caption>OLS Regression Results</caption>\n",
       "<tr>\n",
       "  <th>Dep. Variable:</th>        <td>log_price</td>    <th>  R-squared:         </th> <td>   0.766</td>\n",
       "</tr>\n",
       "<tr>\n",
       "  <th>Model:</th>                   <td>OLS</td>       <th>  Adj. R-squared:    </th> <td>   0.717</td>\n",
       "</tr>\n",
       "<tr>\n",
       "  <th>Method:</th>             <td>Least Squares</td>  <th>  F-statistic:       </th> <td>   15.55</td>\n",
       "</tr>\n",
       "<tr>\n",
       "  <th>Date:</th>             <td>Fri, 04 Aug 2017</td> <th>  Prob (F-statistic):</th> <td>7.50e-10</td>\n",
       "</tr>\n",
       "<tr>\n",
       "  <th>Time:</th>                 <td>09:40:33</td>     <th>  Log-Likelihood:    </th> <td>  76.675</td>\n",
       "</tr>\n",
       "<tr>\n",
       "  <th>No. Observations:</th>      <td>    47</td>      <th>  AIC:               </th> <td>  -135.3</td>\n",
       "</tr>\n",
       "<tr>\n",
       "  <th>Df Residuals:</th>          <td>    38</td>      <th>  BIC:               </th> <td>  -118.7</td>\n",
       "</tr>\n",
       "<tr>\n",
       "  <th>Df Model:</th>              <td>     8</td>      <th>                     </th>     <td> </td>   \n",
       "</tr>\n",
       "<tr>\n",
       "  <th>Covariance Type:</th>      <td>nonrobust</td>    <th>                     </th>     <td> </td>   \n",
       "</tr>\n",
       "</table>\n",
       "<table class=\"simpletable\">\n",
       "<tr>\n",
       "                       <td></td>                         <th>coef</th>     <th>std err</th>      <th>t</th>      <th>P>|t|</th> <th>[95.0% Conf. Int.]</th> \n",
       "</tr>\n",
       "<tr>\n",
       "  <th>Intercept</th>                                  <td>   14.4123</td> <td>    0.705</td> <td>   20.434</td> <td> 0.000</td> <td>   12.984    15.840</td>\n",
       "</tr>\n",
       "<tr>\n",
       "  <th>cpi</th>                                        <td>   -0.0011</td> <td>    0.002</td> <td>   -0.556</td> <td> 0.581</td> <td>   -0.005     0.003</td>\n",
       "</tr>\n",
       "<tr>\n",
       "  <th>net_capital_export</th>                         <td>    0.0805</td> <td>    0.042</td> <td>    1.910</td> <td> 0.064</td> <td>   -0.005     0.166</td>\n",
       "</tr>\n",
       "<tr>\n",
       "  <th>ppi</th>                                        <td>   -0.0003</td> <td>    0.001</td> <td>   -0.340</td> <td> 0.736</td> <td>   -0.002     0.002</td>\n",
       "</tr>\n",
       "<tr>\n",
       "  <th>rts</th>                                        <td>-5.277e-05</td> <td>    0.000</td> <td>   -0.501</td> <td> 0.620</td> <td>   -0.000     0.000</td>\n",
       "</tr>\n",
       "<tr>\n",
       "  <th>average_provision_of_build_contract</th>        <td>   -0.0058</td> <td>    0.073</td> <td>   -0.079</td> <td> 0.937</td> <td>   -0.153     0.141</td>\n",
       "</tr>\n",
       "<tr>\n",
       "  <th>usdrub</th>                                     <td>    0.0049</td> <td>    0.003</td> <td>    1.415</td> <td> 0.165</td> <td>   -0.002     0.012</td>\n",
       "</tr>\n",
       "<tr>\n",
       "  <th>average_provision_of_build_contract_moscow</th> <td>    0.0708</td> <td>    0.040</td> <td>    1.792</td> <td> 0.081</td> <td>   -0.009     0.151</td>\n",
       "</tr>\n",
       "<tr>\n",
       "  <th>micex_cbi_tr</th>                               <td>    0.0055</td> <td>    0.002</td> <td>    2.357</td> <td> 0.024</td> <td>    0.001     0.010</td>\n",
       "</tr>\n",
       "</table>\n",
       "<table class=\"simpletable\">\n",
       "<tr>\n",
       "  <th>Omnibus:</th>       <td> 0.754</td> <th>  Durbin-Watson:     </th> <td>   0.951</td>\n",
       "</tr>\n",
       "<tr>\n",
       "  <th>Prob(Omnibus):</th> <td> 0.686</td> <th>  Jarque-Bera (JB):  </th> <td>   0.832</td>\n",
       "</tr>\n",
       "<tr>\n",
       "  <th>Skew:</th>          <td> 0.265</td> <th>  Prob(JB):          </th> <td>   0.660</td>\n",
       "</tr>\n",
       "<tr>\n",
       "  <th>Kurtosis:</th>      <td> 2.621</td> <th>  Cond. No.          </th> <td>1.38e+05</td>\n",
       "</tr>\n",
       "</table>"
      ],
      "text/plain": [
       "<class 'statsmodels.iolib.summary.Summary'>\n",
       "\"\"\"\n",
       "                            OLS Regression Results                            \n",
       "==============================================================================\n",
       "Dep. Variable:              log_price   R-squared:                       0.766\n",
       "Model:                            OLS   Adj. R-squared:                  0.717\n",
       "Method:                 Least Squares   F-statistic:                     15.55\n",
       "Date:                Fri, 04 Aug 2017   Prob (F-statistic):           7.50e-10\n",
       "Time:                        09:40:33   Log-Likelihood:                 76.675\n",
       "No. Observations:                  47   AIC:                            -135.3\n",
       "Df Residuals:                      38   BIC:                            -118.7\n",
       "Df Model:                           8                                         \n",
       "Covariance Type:            nonrobust                                         \n",
       "==============================================================================================================\n",
       "                                                 coef    std err          t      P>|t|      [95.0% Conf. Int.]\n",
       "--------------------------------------------------------------------------------------------------------------\n",
       "Intercept                                     14.4123      0.705     20.434      0.000        12.984    15.840\n",
       "cpi                                           -0.0011      0.002     -0.556      0.581        -0.005     0.003\n",
       "net_capital_export                             0.0805      0.042      1.910      0.064        -0.005     0.166\n",
       "ppi                                           -0.0003      0.001     -0.340      0.736        -0.002     0.002\n",
       "rts                                        -5.277e-05      0.000     -0.501      0.620        -0.000     0.000\n",
       "average_provision_of_build_contract           -0.0058      0.073     -0.079      0.937        -0.153     0.141\n",
       "usdrub                                         0.0049      0.003      1.415      0.165        -0.002     0.012\n",
       "average_provision_of_build_contract_moscow     0.0708      0.040      1.792      0.081        -0.009     0.151\n",
       "micex_cbi_tr                                   0.0055      0.002      2.357      0.024         0.001     0.010\n",
       "==============================================================================\n",
       "Omnibus:                        0.754   Durbin-Watson:                   0.951\n",
       "Prob(Omnibus):                  0.686   Jarque-Bera (JB):                0.832\n",
       "Skew:                           0.265   Prob(JB):                        0.660\n",
       "Kurtosis:                       2.621   Cond. No.                     1.38e+05\n",
       "==============================================================================\n",
       "\n",
       "Warnings:\n",
       "[1] Standard Errors assume that the covariance matrix of the errors is correctly specified.\n",
       "[2] The condition number is large, 1.38e+05. This might indicate that there are\n",
       "strong multicollinearity or other numerical problems.\n",
       "\"\"\""
      ]
     },
     "execution_count": 32,
     "metadata": {},
     "output_type": "execute_result"
    }
   ],
   "source": [
    "multi_linear = smf.ols(formula='log_price ~ 1 + cpi + net_capital_export + ppi + rts + average_provision_of_build_contract + usdrub + average_provision_of_build_contract_moscow + micex_cbi_tr',data=df).fit()\n",
    "print multi_linear.params[0:11]\n",
    "print 'R-Squared: ', multi_linear.rsquared\n",
    "multi_linear.summary()"
   ]
  },
  {
   "cell_type": "code",
   "execution_count": 33,
   "metadata": {
    "collapsed": true
   },
   "outputs": [],
   "source": [
    "cols = ['cpi' , 'net_capital_export' , 'ppi' , 'rts' , 'average_provision_of_build_contract' ,\n",
    "        'usdrub' , 'average_provision_of_build_contract_moscow' , 'micex_cbi_tr']"
   ]
  },
  {
   "cell_type": "code",
   "execution_count": 34,
   "metadata": {
    "collapsed": true
   },
   "outputs": [],
   "source": [
    "predict3 = predictedVal(df)\n",
    "predictVal3 = logToReal(predict3)"
   ]
  },
  {
   "cell_type": "code",
   "execution_count": 35,
   "metadata": {},
   "outputs": [
    {
     "data": {
      "text/html": [
       "<img src=\"https://github.com/peterjhwang/Russian-house-price-trend-prediction/blob/master/LM_feature_imp.jpg?raw=true\"/>"
      ],
      "text/plain": [
       "<IPython.core.display.Image object>"
      ]
     },
     "execution_count": 35,
     "metadata": {},
     "output_type": "execute_result"
    }
   ],
   "source": [
    "trace0 = go.Bar(x=grouped_df.index,y=grouped_df.median_price.values, name='actual')\n",
    "trace1 = go.Bar(x=grouped_df.index, y=predictVal3, name='predicted')\n",
    "data = [trace0, trace1]\n",
    "layout = go.Layout(\n",
    "    xaxis=dict(tickangle=-45),\n",
    "    barmode='group',\n",
    "    title = 'Linear Model using feature importance'\n",
    ")\n",
    "\n",
    "fig = go.Figure(data=data, layout=layout)\n",
    "#py.iplot(fig, filename='angled-text-bar')\n",
    "Image(url=\"https://github.com/peterjhwang/Russian-house-price-trend-prediction/blob/master/LM_feature_imp.jpg?raw=true\")"
   ]
  },
  {
   "cell_type": "code",
   "execution_count": 36,
   "metadata": {},
   "outputs": [
    {
     "name": "stdout",
     "output_type": "stream",
     "text": [
      "0.0372823925019\n",
      "0.00224143709481\n",
      "0.0473438179154\n"
     ]
    }
   ],
   "source": [
    "print metrics.mean_absolute_error(df['log_price'], predict3)\n",
    "print metrics.mean_squared_error(df['log_price'], predict3)\n",
    "print np.sqrt(metrics.mean_squared_error(df['log_price'], predict3))\n",
    "sqrt_scores.append(np.sqrt(metrics.mean_squared_error(df['log_price'], predict3)))\n",
    "model_name.append('linear regression choosen by XGBoost feature importance')"
   ]
  },
  {
   "cell_type": "markdown",
   "metadata": {},
   "source": [
    "#### 3.4 Feature Engineering\n",
    "\n",
    "This part tries to use engineering features in order to create a linear model. The features are made of the multification between 7 high correlation factors and all the other factors."
   ]
  },
  {
   "cell_type": "code",
   "execution_count": 37,
   "metadata": {},
   "outputs": [
    {
     "name": "stdout",
     "output_type": "stream",
     "text": [
      "94\n"
     ]
    }
   ],
   "source": [
    "print df.columns.get_loc(\"log_price\")"
   ]
  },
  {
   "cell_type": "code",
   "execution_count": 38,
   "metadata": {
    "collapsed": true
   },
   "outputs": [],
   "source": [
    "corr_feature=np.where(np.array(abs(df.corr()['log_price']))>.80)[0]"
   ]
  },
  {
   "cell_type": "code",
   "execution_count": 39,
   "metadata": {},
   "outputs": [
    {
     "name": "stdout",
     "output_type": "stream",
     "text": [
      "cpi\n",
      "gdp_annual_growth\n",
      "salary\n",
      "fixed_basket\n",
      "load_of_teachers_school_per_teacher\n",
      "provision_nurse\n",
      "bandwidth_sports\n"
     ]
    }
   ],
   "source": [
    "for i in corr_feature[:-1]:\n",
    "    print df.columns[i]"
   ]
  },
  {
   "cell_type": "code",
   "execution_count": 40,
   "metadata": {
    "collapsed": true
   },
   "outputs": [],
   "source": [
    "range_=np.delete(range(0,df.shape[1]),94)"
   ]
  },
  {
   "cell_type": "code",
   "execution_count": 41,
   "metadata": {
    "collapsed": true
   },
   "outputs": [],
   "source": [
    "feature_df = pd.DataFrame.copy(df)"
   ]
  },
  {
   "cell_type": "code",
   "execution_count": 42,
   "metadata": {
    "collapsed": true
   },
   "outputs": [],
   "source": [
    "for i in corr_feature[:-1]:\n",
    "    for j in range_:\n",
    "        feature_df[str('feature'+str(i)+'x'+str(j))]=feature_df.ix[:,i]*feature_df.ix[:,j]"
   ]
  },
  {
   "cell_type": "code",
   "execution_count": 43,
   "metadata": {},
   "outputs": [
    {
     "data": {
      "text/plain": [
       "(47, 753)"
      ]
     },
     "execution_count": 43,
     "metadata": {},
     "output_type": "execute_result"
    }
   ],
   "source": [
    "feature_df.shape"
   ]
  },
  {
   "cell_type": "code",
   "execution_count": 44,
   "metadata": {
    "collapsed": true
   },
   "outputs": [],
   "source": [
    "high_corr=np.where(np.array(abs(feature_df.corr()['log_price']))>.855)[0]"
   ]
  },
  {
   "cell_type": "code",
   "execution_count": 45,
   "metadata": {},
   "outputs": [
    {
     "name": "stdout",
     "output_type": "stream",
     "text": [
      "feature13x18 feature30x15 feature77x89 feature89x15 feature89x36 feature89x38 feature89x54 feature89x60 feature89x77 feature89x87 feature89x89 feature89x93\n"
     ]
    }
   ],
   "source": [
    "for i in high_corr[1:]:\n",
    "    print feature_df.columns[i],"
   ]
  },
  {
   "cell_type": "code",
   "execution_count": 46,
   "metadata": {},
   "outputs": [
    {
     "name": "stdout",
     "output_type": "stream",
     "text": [
      "Intercept      -2.235828e-14\n",
      "feature13x18   -3.413438e-01\n",
      "feature30x15    1.202825e-05\n",
      "feature77x89   -2.887664e-08\n",
      "feature89x15   -1.815736e-06\n",
      "feature89x36   -5.737210e-09\n",
      "feature89x38   -1.909746e-08\n",
      "feature89x54    1.400654e-07\n",
      "feature89x60    1.264707e-06\n",
      "feature89x77   -3.555207e-08\n",
      "feature89x87   -1.110817e-08\n",
      "feature89x89   -8.543391e-11\n",
      "feature89x93    6.845155e-10\n",
      "dtype: float64\n",
      "R-Squared:  0.900888131355\n"
     ]
    },
    {
     "data": {
      "text/html": [
       "<table class=\"simpletable\">\n",
       "<caption>OLS Regression Results</caption>\n",
       "<tr>\n",
       "  <th>Dep. Variable:</th>        <td>log_price</td>    <th>  R-squared:         </th> <td>   0.901</td>\n",
       "</tr>\n",
       "<tr>\n",
       "  <th>Model:</th>                   <td>OLS</td>       <th>  Adj. R-squared:    </th> <td>   0.883</td>\n",
       "</tr>\n",
       "<tr>\n",
       "  <th>Method:</th>             <td>Least Squares</td>  <th>  F-statistic:       </th> <td>   50.64</td>\n",
       "</tr>\n",
       "<tr>\n",
       "  <th>Date:</th>             <td>Fri, 04 Aug 2017</td> <th>  Prob (F-statistic):</th> <td>1.30e-17</td>\n",
       "</tr>\n",
       "<tr>\n",
       "  <th>Time:</th>                 <td>09:40:34</td>     <th>  Log-Likelihood:    </th> <td>  96.862</td>\n",
       "</tr>\n",
       "<tr>\n",
       "  <th>No. Observations:</th>      <td>    47</td>      <th>  AIC:               </th> <td>  -177.7</td>\n",
       "</tr>\n",
       "<tr>\n",
       "  <th>Df Residuals:</th>          <td>    39</td>      <th>  BIC:               </th> <td>  -162.9</td>\n",
       "</tr>\n",
       "<tr>\n",
       "  <th>Df Model:</th>              <td>     7</td>      <th>                     </th>     <td> </td>   \n",
       "</tr>\n",
       "<tr>\n",
       "  <th>Covariance Type:</th>      <td>nonrobust</td>    <th>                     </th>     <td> </td>   \n",
       "</tr>\n",
       "</table>\n",
       "<table class=\"simpletable\">\n",
       "<tr>\n",
       "        <td></td>          <th>coef</th>     <th>std err</th>      <th>t</th>      <th>P>|t|</th> <th>[95.0% Conf. Int.]</th> \n",
       "</tr>\n",
       "<tr>\n",
       "  <th>Intercept</th>    <td>-2.236e-14</td> <td>  1.5e-14</td> <td>   -1.495</td> <td> 0.143</td> <td>-5.26e-14  7.89e-15</td>\n",
       "</tr>\n",
       "<tr>\n",
       "  <th>feature13x18</th> <td>   -0.3413</td> <td>    0.084</td> <td>   -4.045</td> <td> 0.000</td> <td>   -0.512    -0.171</td>\n",
       "</tr>\n",
       "<tr>\n",
       "  <th>feature30x15</th> <td> 1.203e-05</td> <td> 5.55e-06</td> <td>    2.166</td> <td> 0.037</td> <td> 7.94e-07  2.33e-05</td>\n",
       "</tr>\n",
       "<tr>\n",
       "  <th>feature77x89</th> <td>-2.888e-08</td> <td> 6.62e-09</td> <td>   -4.364</td> <td> 0.000</td> <td>-4.23e-08 -1.55e-08</td>\n",
       "</tr>\n",
       "<tr>\n",
       "  <th>feature89x15</th> <td>-1.816e-06</td> <td>  8.5e-07</td> <td>   -2.136</td> <td> 0.039</td> <td>-3.53e-06 -9.67e-08</td>\n",
       "</tr>\n",
       "<tr>\n",
       "  <th>feature89x36</th> <td>-5.737e-09</td> <td> 2.47e-09</td> <td>   -2.319</td> <td> 0.026</td> <td>-1.07e-08 -7.33e-10</td>\n",
       "</tr>\n",
       "<tr>\n",
       "  <th>feature89x38</th> <td> -1.91e-08</td> <td>  1.3e-08</td> <td>   -1.470</td> <td> 0.149</td> <td>-4.54e-08  7.17e-09</td>\n",
       "</tr>\n",
       "<tr>\n",
       "  <th>feature89x54</th> <td> 1.401e-07</td> <td> 9.53e-08</td> <td>    1.469</td> <td> 0.150</td> <td>-5.28e-08  3.33e-07</td>\n",
       "</tr>\n",
       "<tr>\n",
       "  <th>feature89x60</th> <td> 1.265e-06</td> <td> 8.57e-07</td> <td>    1.476</td> <td> 0.148</td> <td>-4.69e-07     3e-06</td>\n",
       "</tr>\n",
       "<tr>\n",
       "  <th>feature89x77</th> <td>-3.555e-08</td> <td> 5.27e-09</td> <td>   -6.752</td> <td> 0.000</td> <td>-4.62e-08 -2.49e-08</td>\n",
       "</tr>\n",
       "<tr>\n",
       "  <th>feature89x87</th> <td>-1.111e-08</td> <td> 7.53e-09</td> <td>   -1.474</td> <td> 0.148</td> <td>-2.63e-08  4.13e-09</td>\n",
       "</tr>\n",
       "<tr>\n",
       "  <th>feature89x89</th> <td>-8.543e-11</td> <td> 1.45e-11</td> <td>   -5.888</td> <td> 0.000</td> <td>-1.15e-10 -5.61e-11</td>\n",
       "</tr>\n",
       "<tr>\n",
       "  <th>feature89x93</th> <td> 6.845e-10</td> <td> 1.47e-10</td> <td>    4.667</td> <td> 0.000</td> <td> 3.88e-10  9.81e-10</td>\n",
       "</tr>\n",
       "</table>\n",
       "<table class=\"simpletable\">\n",
       "<tr>\n",
       "  <th>Omnibus:</th>       <td> 4.258</td> <th>  Durbin-Watson:     </th> <td>   1.286</td>\n",
       "</tr>\n",
       "<tr>\n",
       "  <th>Prob(Omnibus):</th> <td> 0.119</td> <th>  Jarque-Bera (JB):  </th> <td>   3.325</td>\n",
       "</tr>\n",
       "<tr>\n",
       "  <th>Skew:</th>          <td> 0.636</td> <th>  Prob(JB):          </th> <td>   0.190</td>\n",
       "</tr>\n",
       "<tr>\n",
       "  <th>Kurtosis:</th>      <td> 3.284</td> <th>  Cond. No.          </th> <td>6.71e+26</td>\n",
       "</tr>\n",
       "</table>"
      ],
      "text/plain": [
       "<class 'statsmodels.iolib.summary.Summary'>\n",
       "\"\"\"\n",
       "                            OLS Regression Results                            \n",
       "==============================================================================\n",
       "Dep. Variable:              log_price   R-squared:                       0.901\n",
       "Model:                            OLS   Adj. R-squared:                  0.883\n",
       "Method:                 Least Squares   F-statistic:                     50.64\n",
       "Date:                Fri, 04 Aug 2017   Prob (F-statistic):           1.30e-17\n",
       "Time:                        09:40:34   Log-Likelihood:                 96.862\n",
       "No. Observations:                  47   AIC:                            -177.7\n",
       "Df Residuals:                      39   BIC:                            -162.9\n",
       "Df Model:                           7                                         \n",
       "Covariance Type:            nonrobust                                         \n",
       "================================================================================\n",
       "                   coef    std err          t      P>|t|      [95.0% Conf. Int.]\n",
       "--------------------------------------------------------------------------------\n",
       "Intercept    -2.236e-14    1.5e-14     -1.495      0.143     -5.26e-14  7.89e-15\n",
       "feature13x18    -0.3413      0.084     -4.045      0.000        -0.512    -0.171\n",
       "feature30x15  1.203e-05   5.55e-06      2.166      0.037      7.94e-07  2.33e-05\n",
       "feature77x89 -2.888e-08   6.62e-09     -4.364      0.000     -4.23e-08 -1.55e-08\n",
       "feature89x15 -1.816e-06    8.5e-07     -2.136      0.039     -3.53e-06 -9.67e-08\n",
       "feature89x36 -5.737e-09   2.47e-09     -2.319      0.026     -1.07e-08 -7.33e-10\n",
       "feature89x38  -1.91e-08    1.3e-08     -1.470      0.149     -4.54e-08  7.17e-09\n",
       "feature89x54  1.401e-07   9.53e-08      1.469      0.150     -5.28e-08  3.33e-07\n",
       "feature89x60  1.265e-06   8.57e-07      1.476      0.148     -4.69e-07     3e-06\n",
       "feature89x77 -3.555e-08   5.27e-09     -6.752      0.000     -4.62e-08 -2.49e-08\n",
       "feature89x87 -1.111e-08   7.53e-09     -1.474      0.148     -2.63e-08  4.13e-09\n",
       "feature89x89 -8.543e-11   1.45e-11     -5.888      0.000     -1.15e-10 -5.61e-11\n",
       "feature89x93  6.845e-10   1.47e-10      4.667      0.000      3.88e-10  9.81e-10\n",
       "==============================================================================\n",
       "Omnibus:                        4.258   Durbin-Watson:                   1.286\n",
       "Prob(Omnibus):                  0.119   Jarque-Bera (JB):                3.325\n",
       "Skew:                           0.636   Prob(JB):                        0.190\n",
       "Kurtosis:                       3.284   Cond. No.                     6.71e+26\n",
       "==============================================================================\n",
       "\n",
       "Warnings:\n",
       "[1] Standard Errors assume that the covariance matrix of the errors is correctly specified.\n",
       "[2] The smallest eigenvalue is 2.53e-30. This might indicate that there are\n",
       "strong multicollinearity problems or that the design matrix is singular.\n",
       "\"\"\""
      ]
     },
     "execution_count": 46,
     "metadata": {},
     "output_type": "execute_result"
    }
   ],
   "source": [
    "multi_linear = smf.ols(formula='log_price ~ feature13x18 + feature30x15 + feature77x89 +  feature89x15 + feature89x36 + feature89x38 + feature89x54 + feature89x60 + feature89x77 + feature89x87 + feature89x89 + feature89x93',data=feature_df).fit()\n",
    "print multi_linear.params[0:13]\n",
    "print 'R-Squared: ', multi_linear.rsquared\n",
    "multi_linear.summary()"
   ]
  },
  {
   "cell_type": "code",
   "execution_count": 47,
   "metadata": {
    "collapsed": true
   },
   "outputs": [],
   "source": [
    "cols = ['feature13x18','feature30x15','feature77x89','feature89x15','feature89x36',\n",
    "        'feature89x38','feature89x54','feature89x60','feature89x77','feature89x87',\n",
    "        'feature89x89','feature89x93']"
   ]
  },
  {
   "cell_type": "code",
   "execution_count": 48,
   "metadata": {
    "collapsed": true
   },
   "outputs": [],
   "source": [
    "predict4 = predictedVal(feature_df)\n",
    "predictVal4 = logToReal(predict4)"
   ]
  },
  {
   "cell_type": "code",
   "execution_count": 49,
   "metadata": {},
   "outputs": [
    {
     "data": {
      "text/html": [
       "<img src=\"https://github.com/peterjhwang/Russian-house-price-trend-prediction/blob/master/Lm_feature_eng.jpg?raw=true\"/>"
      ],
      "text/plain": [
       "<IPython.core.display.Image object>"
      ]
     },
     "execution_count": 49,
     "metadata": {},
     "output_type": "execute_result"
    }
   ],
   "source": [
    "trace0 = go.Bar(x=grouped_df.index,y=grouped_df.median_price.values, name='actual')\n",
    "trace1 = go.Bar(x=grouped_df.index, y=predictVal4, name='predicted')\n",
    "data = [trace0, trace1]\n",
    "layout = go.Layout(\n",
    "    xaxis=dict(tickangle=-45),\n",
    "    barmode='group',\n",
    "    title = 'Linear Model with feature engineering'\n",
    ")\n",
    "\n",
    "fig = go.Figure(data=data, layout=layout)\n",
    "#py.iplot(fig, filename='angled-text-bar')\n",
    "Image(url=\"https://github.com/peterjhwang/Russian-house-price-trend-prediction/blob/master/Lm_feature_eng.jpg?raw=true\")"
   ]
  },
  {
   "cell_type": "code",
   "execution_count": 50,
   "metadata": {},
   "outputs": [
    {
     "name": "stdout",
     "output_type": "stream",
     "text": [
      "0.0249509770108\n",
      "0.000949433078459\n",
      "0.0308128719606\n"
     ]
    }
   ],
   "source": [
    "print metrics.mean_absolute_error(df['log_price'], predict4)\n",
    "print metrics.mean_squared_error(df['log_price'], predict4)\n",
    "print np.sqrt(metrics.mean_squared_error(df['log_price'], predict4))\n",
    "sqrt_scores.append(np.sqrt(metrics.mean_squared_error(df['log_price'], predict4)))\n",
    "model_name.append('linear regression using feature engineering')"
   ]
  },
  {
   "cell_type": "markdown",
   "metadata": {},
   "source": [
    "### 4. Elastic Net\n",
    "\n",
    "The elastic net is a regularized regression method that linearly combines the L1 and L2 penalties of the lasso and ridge methods (Wikipedia.com). This part tries to predict median house price using sklearn elastic net model with only original features and with engineering features.\n",
    "\n",
    "#### 4.1 Elastic Net with only the original features"
   ]
  },
  {
   "cell_type": "code",
   "execution_count": 51,
   "metadata": {
    "collapsed": true
   },
   "outputs": [],
   "source": [
    "X = df.drop('log_price', axis=1)\n",
    "y = df['log_price']"
   ]
  },
  {
   "cell_type": "code",
   "execution_count": 52,
   "metadata": {
    "collapsed": true
   },
   "outputs": [],
   "source": [
    "ENSTest = linear_model.ElasticNetCV(alphas=[0.0001, 0.0005, 0.001, 0.01, 0.1, 1, 10], l1_ratio=[.01, .1, .5, .9, .99], max_iter=5000).fit(X, y)"
   ]
  },
  {
   "cell_type": "code",
   "execution_count": 53,
   "metadata": {
    "collapsed": true
   },
   "outputs": [],
   "source": [
    "predictE1 = ENSTest.fit(X, y).predict(X)"
   ]
  },
  {
   "cell_type": "code",
   "execution_count": 54,
   "metadata": {},
   "outputs": [
    {
     "name": "stdout",
     "output_type": "stream",
     "text": [
      "0.0372449945095\n",
      "0.00242848422558\n",
      "0.0492796532616\n"
     ]
    }
   ],
   "source": [
    "print metrics.mean_absolute_error(df['log_price'], predictE1)\n",
    "print metrics.mean_squared_error(df['log_price'], predictE1)\n",
    "print np.sqrt(metrics.mean_squared_error(df['log_price'], predictE1))\n",
    "sqrt_scores.append(np.sqrt(metrics.mean_squared_error(df['log_price'], predictE1)))\n",
    "model_name.append('Elastic Net model')"
   ]
  },
  {
   "cell_type": "markdown",
   "metadata": {},
   "source": [
    "#### 4.2 Elastic Net with engineering features"
   ]
  },
  {
   "cell_type": "code",
   "execution_count": 55,
   "metadata": {
    "collapsed": true
   },
   "outputs": [],
   "source": [
    "X = feature_df.drop('log_price', axis=1)\n",
    "y = feature_df['log_price']"
   ]
  },
  {
   "cell_type": "code",
   "execution_count": 56,
   "metadata": {
    "collapsed": true
   },
   "outputs": [],
   "source": [
    "ENSTest = linear_model.ElasticNetCV(alphas=[0.0001, 0.0005, 0.001, 0.01, 0.1, 1, 10], l1_ratio=[.01, .1, .5, .9, .99], max_iter=5000).fit(X, y)"
   ]
  },
  {
   "cell_type": "code",
   "execution_count": 57,
   "metadata": {
    "collapsed": true
   },
   "outputs": [],
   "source": [
    "predictE2 = ENSTest.fit(X, y).predict(X)\n",
    "predictEVal = logToReal(predictE2)"
   ]
  },
  {
   "cell_type": "code",
   "execution_count": 58,
   "metadata": {},
   "outputs": [
    {
     "name": "stdout",
     "output_type": "stream",
     "text": [
      "0.00635860254849\n",
      "6.17982546585e-05\n",
      "0.00786118659354\n"
     ]
    }
   ],
   "source": [
    "print metrics.mean_absolute_error(df['log_price'], predictE2)\n",
    "print metrics.mean_squared_error(df['log_price'], predictE2)\n",
    "print np.sqrt(metrics.mean_squared_error(df['log_price'], predictE2))\n",
    "sqrt_scores.append(np.sqrt(metrics.mean_squared_error(df['log_price'], predictE2)))\n",
    "model_name.append('Elastice Net model with feature engineering')"
   ]
  },
  {
   "cell_type": "code",
   "execution_count": 59,
   "metadata": {},
   "outputs": [
    {
     "data": {
      "text/html": [
       "<img src=\"https://github.com/peterjhwang/Russian-house-price-trend-prediction/blob/master/Elastic_feature_eng.jpg?raw=true\"/>"
      ],
      "text/plain": [
       "<IPython.core.display.Image object>"
      ]
     },
     "execution_count": 59,
     "metadata": {},
     "output_type": "execute_result"
    }
   ],
   "source": [
    "trace0 = go.Bar(x=grouped_df.index,y=grouped_df.median_price.values, name='actual')\n",
    "trace1 = go.Bar(x=grouped_df.index, y=predictEVal, name='predicted')\n",
    "data = [trace0, trace1]\n",
    "layout = go.Layout(\n",
    "    xaxis=dict(tickangle=-45),\n",
    "    barmode='group',\n",
    "    title = 'Elastic Net Model with feature engineering'\n",
    ")\n",
    "\n",
    "fig = go.Figure(data=data, layout=layout)\n",
    "#py.iplot(fig, filename='angled-text-bar')\n",
    "Image(url=\"https://github.com/peterjhwang/Russian-house-price-trend-prediction/blob/master/Elastic_feature_eng.jpg?raw=true\")"
   ]
  },
  {
   "cell_type": "markdown",
   "metadata": {},
   "source": [
    "Interestingly, the elastic net model based only on original macroeconomic data is much less accurate than based on all features with feature engineering, their mean squared errors are 0.0492796532616 and 0.00786118659354, respectively."
   ]
  },
  {
   "cell_type": "markdown",
   "metadata": {},
   "source": [
    "### 5. Gradient Boosting\n",
    "\n",
    "Gradient boosting is a machine learning technique for regression and classification problems, which produces a prediction model in the form of an ensemble of weak prediction models, typically decision trees (Wikipedia.com). \n",
    "\n",
    "#### 5.1 Gradient Boosting with only the original features"
   ]
  },
  {
   "cell_type": "code",
   "execution_count": 60,
   "metadata": {
    "collapsed": true
   },
   "outputs": [],
   "source": [
    "X = df.drop('log_price', axis=1)\n",
    "y = df['log_price']"
   ]
  },
  {
   "cell_type": "code",
   "execution_count": 61,
   "metadata": {
    "collapsed": true
   },
   "outputs": [],
   "source": [
    "GBest = ensemble.GradientBoostingRegressor(n_estimators=3000, learning_rate=0.05, max_depth=3, max_features='sqrt',\n",
    "                                               min_samples_leaf=15, min_samples_split=10, loss='huber').fit(X, y)"
   ]
  },
  {
   "cell_type": "code",
   "execution_count": 62,
   "metadata": {
    "collapsed": true
   },
   "outputs": [],
   "source": [
    "predictGB = GBest.fit(X, y).predict(X)\n",
    "predictGBVal = logToReal(predictGB)"
   ]
  },
  {
   "cell_type": "code",
   "execution_count": 63,
   "metadata": {},
   "outputs": [
    {
     "name": "stdout",
     "output_type": "stream",
     "text": [
      "0.00243154853475\n",
      "3.26687700179e-05\n",
      "0.00571566006844\n"
     ]
    }
   ],
   "source": [
    "print metrics.mean_absolute_error(df['log_price'], predictGB)\n",
    "print metrics.mean_squared_error(df['log_price'], predictGB)\n",
    "print np.sqrt(metrics.mean_squared_error(df['log_price'], predictGB))\n",
    "sqrt_scores.append(np.sqrt(metrics.mean_squared_error(df['log_price'], predictGB)))\n",
    "model_name.append('Gradient Boosting model using only original features')"
   ]
  },
  {
   "cell_type": "code",
   "execution_count": 64,
   "metadata": {},
   "outputs": [
    {
     "data": {
      "text/html": [
       "<img src=\"https://github.com/peterjhwang/Russian-house-price-trend-prediction/blob/master/Gradient_Boost_ori.jpg?raw=true\"/>"
      ],
      "text/plain": [
       "<IPython.core.display.Image object>"
      ]
     },
     "execution_count": 64,
     "metadata": {},
     "output_type": "execute_result"
    }
   ],
   "source": [
    "trace0 = go.Bar(x=grouped_df.index,y=grouped_df.median_price.values, name='actual')\n",
    "trace1 = go.Bar(x=grouped_df.index, y=predictGBVal, name='predicted')\n",
    "data = [trace0, trace1]\n",
    "layout = go.Layout(\n",
    "    xaxis=dict(tickangle=-45),\n",
    "    barmode='group',\n",
    "    title = 'Gradient Boosting Model with original data'\n",
    ")\n",
    "\n",
    "fig = go.Figure(data=data, layout=layout)\n",
    "#py.iplot(fig, filename='angled-text-bar')\n",
    "Image(url=\"https://github.com/peterjhwang/Russian-house-price-trend-prediction/blob/master/Gradient_Boost_ori.jpg?raw=true\")"
   ]
  },
  {
   "cell_type": "markdown",
   "metadata": {},
   "source": [
    "#### 5.2 Gradient Boosting with engineering features"
   ]
  },
  {
   "cell_type": "code",
   "execution_count": 65,
   "metadata": {
    "collapsed": true
   },
   "outputs": [],
   "source": [
    "X = feature_df.drop('log_price', axis=1)\n",
    "y = feature_df['log_price']"
   ]
  },
  {
   "cell_type": "code",
   "execution_count": 66,
   "metadata": {
    "collapsed": true
   },
   "outputs": [],
   "source": [
    "GBest = ensemble.GradientBoostingRegressor(n_estimators=3000, learning_rate=0.05, max_depth=3, max_features='sqrt',\n",
    "                                               min_samples_leaf=15, min_samples_split=10, loss='huber').fit(X, y)"
   ]
  },
  {
   "cell_type": "code",
   "execution_count": 67,
   "metadata": {
    "collapsed": true
   },
   "outputs": [],
   "source": [
    "predictGB2 = GBest.fit(X, y).predict(X)\n",
    "predictGB2Val = logToReal(predictGB2)"
   ]
  },
  {
   "cell_type": "code",
   "execution_count": 68,
   "metadata": {},
   "outputs": [
    {
     "name": "stdout",
     "output_type": "stream",
     "text": [
      "0.0022602601305\n",
      "6.74060852092e-05\n",
      "0.00821012090101\n"
     ]
    }
   ],
   "source": [
    "print metrics.mean_absolute_error(df['log_price'], predictGB2)\n",
    "print metrics.mean_squared_error(df['log_price'], predictGB2)\n",
    "print np.sqrt(metrics.mean_squared_error(df['log_price'], predictGB2))\n",
    "sqrt_scores.append(np.sqrt(metrics.mean_squared_error(df['log_price'], predictGB2)))\n",
    "model_name.append('Gradient Boosting model with feature enginerring')"
   ]
  },
  {
   "cell_type": "code",
   "execution_count": 69,
   "metadata": {},
   "outputs": [
    {
     "data": {
      "text/html": [
       "<img src=\"https://github.com/peterjhwang/Russian-house-price-trend-prediction/blob/master/Gradient_Boost_feature.jpg?raw=true\"/>"
      ],
      "text/plain": [
       "<IPython.core.display.Image object>"
      ]
     },
     "execution_count": 69,
     "metadata": {},
     "output_type": "execute_result"
    }
   ],
   "source": [
    "trace0 = go.Bar(x=grouped_df.index,y=grouped_df.median_price.values, name='actual')\n",
    "trace1 = go.Bar(x=grouped_df.index, y=predictGB2Val, name='predicted')\n",
    "data = [trace0, trace1]\n",
    "layout = go.Layout(\n",
    "    xaxis=dict(tickangle=-45),\n",
    "    barmode='group',\n",
    "    title = 'Gradient Boosting Model with feature engineering'\n",
    ")\n",
    "\n",
    "fig = go.Figure(data=data, layout=layout)\n",
    "#py.iplot(fig, filename='angled-text-bar')\n",
    "Image(url=\"https://github.com/peterjhwang/Russian-house-price-trend-prediction/blob/master/Gradient_Boost_feature.jpg?raw=true\")"
   ]
  },
  {
   "cell_type": "markdown",
   "metadata": {},
   "source": [
    "### 6. Conclusion"
   ]
  },
  {
   "cell_type": "code",
   "execution_count": 70,
   "metadata": {},
   "outputs": [
    {
     "name": "stdout",
     "output_type": "stream",
     "text": [
      "high correlation linear regression has 0.0390113809517 score.\n",
      "intuitively picked up linear regression has 0.0375268726898 score.\n",
      "linear regression choosen by XGBoost feature importance has 0.0473438179154 score.\n",
      "linear regression using feature engineering has 0.0308128719606 score.\n",
      "Elastic Net model has 0.0492796532616 score.\n",
      "Elastice Net model with feature engineering has 0.00786118659354 score.\n",
      "Gradient Boosting model using only original features has 0.00571566006844 score.\n",
      "Gradient Boosting model with feature enginerring has 0.00821012090101 score.\n"
     ]
    }
   ],
   "source": [
    "for i in range(0, len(sqrt_scores)):\n",
    "    print model_name[i],\"has\",sqrt_scores[i], \"score.\""
   ]
  },
  {
   "cell_type": "code",
   "execution_count": 71,
   "metadata": {},
   "outputs": [
    {
     "name": "stdout",
     "output_type": "stream",
     "text": [
      "The most accurate model is Gradient Boosting model using only original features\n"
     ]
    }
   ],
   "source": [
    "print \"The most accurate model is\",\n",
    "print model_name[np.where(sqrt_scores==np.min(sqrt_scores))[0]]"
   ]
  },
  {
   "cell_type": "markdown",
   "metadata": {},
   "source": [
    "The research have tried several models in different ways. Using engineering features seems slightly better to predict median house prices among linear regression models. The research has also found that using engineering features is much more accurate in the elastic net models. On the other hand, for the gradient boosting model, predicting only based on original features is significantly better."
   ]
  }
 ],
 "metadata": {
  "kernelspec": {
   "display_name": "Python 2",
   "language": "python",
   "name": "python2"
  },
  "language_info": {
   "codemirror_mode": {
    "name": "ipython",
    "version": 2
   },
   "file_extension": ".py",
   "mimetype": "text/x-python",
   "name": "python",
   "nbconvert_exporter": "python",
   "pygments_lexer": "ipython2",
   "version": "2.7.13"
  }
 },
 "nbformat": 4,
 "nbformat_minor": 2
}
